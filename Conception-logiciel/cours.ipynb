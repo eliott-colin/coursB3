{
 "cells": [
  {
   "cell_type": "markdown",
   "id": "08da61f1",
   "metadata": {},
   "source": [
    "## Dictionnaire de données : Entité Livre\n",
    "\n",
    "| Nom de la donnée       | Type       | Taille | Contraintes                | Description                                   |\n",
    "|-------------------------|:----------:|:------:|----------------------------|-----------------------------------------------|\n",
    "| id_livre               | INT        |        | PRIMARY KEY, AUTO_INCREMENT | Identifiant unique du livre                   |\n",
    "| titre_livre            | VARCHAR    | 150    | NOT NULL                   | Titre du livre                                |\n",
    "| auteur_livre           | VARCHAR    | 100    | NOT NULL                   | Auteur principal du livre                     |\n",
    "| isbn                   | VARCHAR    | 13     | UNIQUE, NOT NULL           | Code ISBN du livre (13 caractères)            |\n",
    "| annee_publication      | YEAR       |        | NOT NULL                   | Année de publication                          |\n",
    "| genre                  | VARCHAR    | 50     |                            | Genre littéraire (roman, essai, poésie, etc.) |\n",
    "| nombre_pages           | INT        |        | CHECK (nombre_pages > 0)   | Nombre total de pages du livre                |\n",
    "| disponibilite          | BOOLEAN    |        | DEFAULT TRUE               | Indique si le livre est disponible (1 = oui, 0 = non) |\n",
    "\n"
   ]
  },
  {
   "cell_type": "markdown",
   "id": "76468002",
   "metadata": {
    "vscode": {
     "languageId": "plaintext"
    }
   },
   "source": [
    "## Dictionnaire de données : Entité Adhérent\n",
    "\n",
    "| Nom de la donnée   | Type       | Taille | Contraintes                     | Description                                    |\n",
    "|---------------------|:----------:|:------:|---------------------------------|------------------------------------------------|\n",
    "| id_adherent        | INT        |        | PRIMARY KEY, AUTO_INCREMENT     | Identifiant unique de l’adhérent               |\n",
    "| nom                | VARCHAR    | 50     | NOT NULL                        | Nom de famille de l’adhérent                   |\n",
    "| prenom             | VARCHAR    | 50     | NOT NULL                        | Prénom de l’adhérent                           |\n",
    "| date_naissance     | DATE       |        | NOT NULL                        | Date de naissance de l’adhérent                |\n",
    "| adresse            | VARCHAR    | 150    |                                 | Adresse postale complète                       |\n",
    "| telephone          | VARCHAR    | 15     | UNIQUE                          | Numéro de téléphone de l’adhérent              |\n",
    "| email              | VARCHAR    | 100    | UNIQUE, NOT NULL                | Adresse email de l’adhérent                    |\n",
    "| date_inscription   | DATE       |        | NOT NULL, DEFAULT CURRENT_DATE  | Date d’inscription à la bibliothèque           |\n"
   ]
  },
  {
   "cell_type": "markdown",
   "id": "dd7d8688",
   "metadata": {
    "vscode": {
     "languageId": "plaintext"
    }
   },
   "source": [
    "## Dictionnaire de données : Entité Emprunt\n",
    "\n",
    "| Nom de la donnée        | Type     | Taille | Contraintes                           | Description                                        |\n",
    "|---------------------|:----------:|:------:|---------------------------------|------------------------------------------------|\n",
    "| id_emprunt              | INT      |        | PRIMARY KEY, AUTO_INCREMENT           | Identifiant unique de l’emprunt                    |\n",
    "| id_adherent             | INT      |        | FOREIGN KEY REFERENCES Adherent(id_adherent) | Référence à l’adhérent qui a emprunté le livre |\n",
    "| id_livre                | INT      |        | FOREIGN KEY REFERENCES Livre(id_livre)       | Référence au livre emprunté                   |\n",
    "| date_emprunt            | DATE     |        | NOT NULL                              | Date à laquelle l’adhérent a emprunté le livre     |\n",
    "| date_retour_prevu       | DATE     |        | NOT NULL                              | Date limite prévue pour le retour du livre         |\n",
    "| date_retour_effectif    | DATE     |        |                                       | Date réelle de retour du livre                     |\n",
    "| penalites               | INT      |        | DEFAULT  0 | Montant des pénalités appliquées (en euros, par ex.) |\n"
   ]
  },
  {
   "cell_type": "code",
   "execution_count": null,
   "id": "a9b0940b",
   "metadata": {
    "vscode": {
     "languageId": "plaintext"
    }
   },
   "outputs": [],
   "source": []
  }
 ],
 "metadata": {
  "language_info": {
   "name": "python"
  }
 },
 "nbformat": 4,
 "nbformat_minor": 5
}
