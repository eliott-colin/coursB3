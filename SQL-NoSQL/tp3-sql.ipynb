{
 "cells": [
  {
   "cell_type": "code",
   "execution_count": null,
   "id": "78d08aee",
   "metadata": {
    "vscode": {
     "languageId": "sql"
    }
   },
   "outputs": [],
   "source": [
    "SELECT round(AVG(track.Milliseconds)/1000, 2) AS avg_milliseconds FROM track;"
   ]
  },
  {
   "cell_type": "code",
   "execution_count": null,
   "id": "62e86e12",
   "metadata": {
    "vscode": {
     "languageId": "sql"
    }
   },
   "outputs": [],
   "source": [
    "SELECT COUNT(*) FROM track;"
   ]
  },
  {
   "cell_type": "code",
   "execution_count": null,
   "id": "5d7796db",
   "metadata": {
    "vscode": {
     "languageId": "sql"
    }
   },
   "outputs": [],
   "source": [
    "SELECT min(track.Milliseconds)/1000 AS minimum, max(track.Milliseconds)/1000 AS maximum FROM track;"
   ]
  },
  {
   "cell_type": "code",
   "execution_count": null,
   "id": "3e950db0",
   "metadata": {
    "vscode": {
     "languageId": "sql"
    }
   },
   "outputs": [],
   "source": [
    "SELECT sum(invoice.Total) AS total FROM invoice;"
   ]
  },
  {
   "cell_type": "code",
   "execution_count": null,
   "id": "8dcaa5f4",
   "metadata": {
    "vscode": {
     "languageId": "sql"
    }
   },
   "outputs": [],
   "source": [
    "SELECT UPPER(Title) AS album_title FROM album;"
   ]
  },
  {
   "cell_type": "code",
   "execution_count": null,
   "id": "b10448cb",
   "metadata": {
    "vscode": {
     "languageId": "sql"
    }
   },
   "outputs": [],
   "source": [
    "SELECT LOWER(Title) AS album_title FROM album;"
   ]
  },
  {
   "cell_type": "code",
   "execution_count": null,
   "id": "e391f196",
   "metadata": {
    "vscode": {
     "languageId": "sql"
    }
   },
   "outputs": [],
   "source": [
    "SELECT concat(customer.FirstName,\" \",customer.LastName) as \"Prénom Nom\" FROM customer;"
   ]
  },
  {
   "cell_type": "code",
   "execution_count": null,
   "id": "6ef87869",
   "metadata": {
    "vscode": {
     "languageId": "sql"
    }
   },
   "outputs": [],
   "source": [
    "SELECT trim(customer.LastName) as \"Nom\" FROM customer;"
   ]
  },
  {
   "cell_type": "code",
   "execution_count": null,
   "id": "3814996e",
   "metadata": {
    "vscode": {
     "languageId": "sql"
    }
   },
   "outputs": [],
   "source": [
    "SELECT replace(album.Title, \" \" , \"_\") as \"Nom\" FROM album;"
   ]
  },
  {
   "cell_type": "code",
   "execution_count": null,
   "id": "86d45d38",
   "metadata": {
    "vscode": {
     "languageId": "sql"
    }
   },
   "outputs": [],
   "source": [
    "SELECT substr(artist.Name, 1, 3) as \"Acronyme\" FROM artist;"
   ]
  },
  {
   "cell_type": "code",
   "execution_count": null,
   "id": "2c048870",
   "metadata": {
    "vscode": {
     "languageId": "sql"
    }
   },
   "outputs": [],
   "source": [
    "SELECT Now();"
   ]
  },
  {
   "cell_type": "code",
   "execution_count": null,
   "id": "924a1e6d",
   "metadata": {
    "vscode": {
     "languageId": "sql"
    }
   },
   "outputs": [],
   "source": [
    "SELECT invoice.InvoiceDate AS \"Invoice year\" FROM invoice;"
   ]
  },
  {
   "cell_type": "code",
   "execution_count": null,
   "id": "3c5b637d",
   "metadata": {
    "vscode": {
     "languageId": "sql"
    }
   },
   "outputs": [],
   "source": [
    "SELECT YEAR(invoice.InvoiceDate) AS \"Invoice year\" FROM invoice;"
   ]
  },
  {
   "cell_type": "code",
   "execution_count": null,
   "id": "0a1af22a",
   "metadata": {
    "vscode": {
     "languageId": "sql"
    }
   },
   "outputs": [],
   "source": [
    "SELECT CONCAT(MONTH(invoice.InvoiceDate),'-', YEAR(invoice.InvoiceDate)) AS \"Invoice month year\" FROM invoice;"
   ]
  },
  {
   "cell_type": "code",
   "execution_count": null,
   "id": "72e00291",
   "metadata": {
    "vscode": {
     "languageId": "sql"
    }
   },
   "outputs": [],
   "source": [
    "SELECT DATEDIFF(MIN(invoice.InvoiceDate), MAX(invoice.InvoiceDate)) AS \"Invoice day range\" FROM invoice;"
   ]
  },
  {
   "cell_type": "code",
   "execution_count": null,
   "id": "68425841",
   "metadata": {
    "vscode": {
     "languageId": "sql"
    }
   },
   "outputs": [],
   "source": [
    "SELECT employee.Email, SHA1(employee.Email) AS sha1_hash, MD5(employee.Email) AS md5_hash FROM employee;"
   ]
  },
  {
   "cell_type": "code",
   "execution_count": null,
   "id": "5aeaf8e1",
   "metadata": {
    "vscode": {
     "languageId": "sql"
    }
   },
   "outputs": [],
   "source": [
    "SELECT COUNT(*) FROM track\n",
    "GROUP BY track.AlbumId;"
   ]
  },
  {
   "cell_type": "code",
   "execution_count": null,
   "id": "06f93c40",
   "metadata": {
    "vscode": {
     "languageId": "sql"
    }
   },
   "outputs": [],
   "source": [
    "SELECT customer.LastName, SUM(invoice.total) AS invoice_count FROM invoice\n",
    "JOIN customer ON invoice.CustomerId = customer.CustomerId\n",
    "GROUP BY customer.CustomerId  \n",
    "ORDER BY `invoice_count`  ASC;"
   ]
  },
  {
   "cell_type": "code",
   "execution_count": null,
   "id": "c4760949",
   "metadata": {
    "vscode": {
     "languageId": "sql"
    }
   },
   "outputs": [],
   "source": [
    "SELECT customer.LastName, SUM(invoice.total) AS invoice_count FROM invoice\n",
    "JOIN customer ON invoice.CustomerId = customer.CustomerId\n",
    "GROUP BY customer.CustomerId \n",
    "HAVING invoice_count > 38\n",
    "ORDER BY `invoice_count`  ASC;"
   ]
  }
 ],
 "metadata": {
  "language_info": {
   "name": "python"
  }
 },
 "nbformat": 4,
 "nbformat_minor": 5
}
