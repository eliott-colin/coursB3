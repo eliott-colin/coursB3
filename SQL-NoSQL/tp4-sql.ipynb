{
 "cells": [
  {
   "cell_type": "code",
   "execution_count": null,
   "id": "c9d680e2",
   "metadata": {
    "vscode": {
     "languageId": "sql"
    }
   },
   "outputs": [],
   "source": [
    "SELECT Album.Title FROM Album INNER JOIN Artist ON Album.ArtistId = Artist.ArtistId WHERE Artist.Name LIKE \"Queen\""
   ]
  },
  {
   "cell_type": "code",
   "execution_count": null,
   "id": "da7e1b09",
   "metadata": {
    "vscode": {
     "languageId": "dockerfile"
    }
   },
   "outputs": [],
   "source": [
    "SELECT a.Name, COUNT(al.AlbumId) AS NombreAlbums FROM artist a\n",
    "JOIN album al ON a.ArtistId = al.ArtistId\n",
    "GROUP BY a.Name\n",
    "HAVING COUNT(al.AlbumId) > 10;"
   ]
  },
  {
   "cell_type": "code",
   "execution_count": null,
   "id": "f3b22341",
   "metadata": {
    "vscode": {
     "languageId": "sql"
    }
   },
   "outputs": [],
   "source": [
    "SELECT a.Name, COUNT(al.AlbumId) AS NombreAlbums FROM artist a\n",
    "JOIN album al ON a.ArtistId = al.ArtistId\n",
    "GROUP BY a.Name\n",
    "HAVING COUNT(al.AlbumId) = 0  "
   ]
  },
  {
   "cell_type": "code",
   "execution_count": null,
   "id": "c5e8743a",
   "metadata": {
    "vscode": {
     "languageId": "sql"
    }
   },
   "outputs": [],
   "source": [
    "SELECT * FROM track WHERE track.Milliseconds >= (SELECT AVG(track.Milliseconds)FROM track)  ;"
   ]
  },
  {
   "cell_type": "code",
   "execution_count": null,
   "id": "9c234f4c",
   "metadata": {
    "vscode": {
     "languageId": "sql"
    }
   },
   "outputs": [],
   "source": [
    "SELECT Album.Title FROM Track INNER JOIN Album ON Track.AlbumId = Album.AlbumId WHERE Track.Milliseconds/1000/60 > 10;"
   ]
  },
  {
   "cell_type": "code",
   "execution_count": null,
   "id": "ad674017",
   "metadata": {
    "vscode": {
     "languageId": "sql"
    }
   },
   "outputs": [],
   "source": [
    "SELECT * FROM track WHERE GenreId = 1 AND Milliseconds = (SELECT MAX(Milliseconds) FROM track WHERE GenreId = 1);"
   ]
  }
 ],
 "metadata": {
  "language_info": {
   "name": "python"
  }
 },
 "nbformat": 4,
 "nbformat_minor": 5
}
