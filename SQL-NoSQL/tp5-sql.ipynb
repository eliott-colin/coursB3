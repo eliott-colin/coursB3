{
 "cells": [
  {
   "cell_type": "code",
   "execution_count": null,
   "id": "d4a0dcfc",
   "metadata": {
    "vscode": {
     "languageId": "sql"
    }
   },
   "outputs": [],
   "source": [
    "SELECT c.FirstName, c.LastName,v.InvoiceDate, v.Total FROM customer c INNER JOIN invoice v ON v.CustomerId = c.CustomerId;"
   ]
  },
  {
   "cell_type": "code",
   "execution_count": null,
   "id": "d01d227f",
   "metadata": {
    "vscode": {
     "languageId": "sql"
    }
   },
   "outputs": [],
   "source": [
    "SELECT c.FirstName, c.LastName, SUM(v.Total) AS TotalSpent FROM customer c\n",
    "INNER JOIN invoice v ON v.CustomerId = c.CustomerId\n",
    "GROUP BY c.FirstName, c.LastName;"
   ]
  },
  {
   "cell_type": "code",
   "execution_count": null,
   "id": "328af35c",
   "metadata": {
    "vscode": {
     "languageId": "sql"
    }
   },
   "outputs": [],
   "source": [
    "SELECT Artist.Name, Album.Title FROM Artist INNER JOIN Album ON Album.ArtistId = Artist.ArtistId WHERE Artist.Name = \"Green Day\";"
   ]
  },
  {
   "cell_type": "code",
   "execution_count": null,
   "id": "b2d5e56d",
   "metadata": {
    "vscode": {
     "languageId": "sql"
    }
   },
   "outputs": [],
   "source": [
    "SELECT Artist.Name, Album.Title, Track.Name FROM Artist \n",
    "INNER JOIN Album ON Album.ArtistId = Artist.ArtistId \n",
    "INNER JOIN Track ON Album.AlbumId = Track.AlbumId WHERE Artist.Name = \"Green Day\";"
   ]
  },
  {
   "cell_type": "code",
   "execution_count": null,
   "id": "60816cb8",
   "metadata": {
    "vscode": {
     "languageId": "sql"
    }
   },
   "outputs": [],
   "source": [
    "SELECT Artist.Name, COUNT(DISTINCT Album.AlbumId) AS NbAlbums, COUNT(Track.TrackId) AS NbTitres FROM Artist\n",
    "INNER JOIN Album ON Album.ArtistId = Artist.ArtistId\n",
    "INNER JOIN Track ON Track.AlbumId = Album.AlbumId\n",
    "GROUP BY Artist.ArtistId, Artist.Name\n",
    "ORDER BY NbTitres DESC;"
   ]
  }
 ],
 "metadata": {
  "language_info": {
   "name": "python"
  }
 },
 "nbformat": 4,
 "nbformat_minor": 5
}
