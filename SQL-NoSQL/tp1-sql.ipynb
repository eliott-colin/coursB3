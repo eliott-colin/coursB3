{
 "cells": [
  {
   "cell_type": "code",
   "execution_count": null,
   "id": "df30e789",
   "metadata": {
    "vscode": {
     "languageId": "sql"
    }
   },
   "outputs": [],
   "source": [
    "CREATE DATABASE IF NOT EXISTS GestionEmployes;"
   ]
  },
  {
   "cell_type": "code",
   "execution_count": null,
   "id": "04fbf9af",
   "metadata": {
    "vscode": {
     "languageId": "sql"
    }
   },
   "outputs": [],
   "source": [
    "CREATE TABLE Employes (\n",
    "    id INT NOT NULL AUTO_INCREMENT PRIMARY KEY,\n",
    "    nom VARCHAR(255),\n",
    "    age TINYINT(3)\n",
    ");"
   ]
  },
  {
   "cell_type": "code",
   "execution_count": null,
   "id": "49ca3d0d",
   "metadata": {
    "vscode": {
     "languageId": "sql"
    }
   },
   "outputs": [],
   "source": [
    "CREATE TABLE departements (\n",
    "    id INT AUTO_INCREMENT PRIMARY KEY,\n",
    "    libelle VARCHAR(255),\n",
    "    description VARCHAR(255)\n",
    ");"
   ]
  },
  {
   "cell_type": "code",
   "execution_count": null,
   "id": "09aa8638",
   "metadata": {
    "vscode": {
     "languageId": "sql"
    }
   },
   "outputs": [],
   "source": [
    "ALTER TABLE employes ADD salaire INT"
   ]
  },
  {
   "cell_type": "code",
   "execution_count": null,
   "id": "0d573706",
   "metadata": {
    "vscode": {
     "languageId": "sql"
    }
   },
   "outputs": [],
   "source": [
    "ALTER TABLE Employes\n",
    "DROP COLUMN age;"
   ]
  },
  {
   "cell_type": "code",
   "execution_count": null,
   "id": "e2ef52d8",
   "metadata": {
    "vscode": {
     "languageId": "sql"
    }
   },
   "outputs": [],
   "source": [
    "DROP DATABASE IF EXISTS GestionEmployes;"
   ]
  }
 ],
 "metadata": {
  "language_info": {
   "name": "python"
  }
 },
 "nbformat": 4,
 "nbformat_minor": 5
}
