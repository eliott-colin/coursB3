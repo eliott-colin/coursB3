{
 "cells": [
  {
   "cell_type": "code",
   "execution_count": null,
   "id": "8127a475",
   "metadata": {
    "vscode": {
     "languageId": "sql"
    }
   },
   "outputs": [],
   "source": [
    "CREATE DATABASE IF NOT EXISTS Marmitest;"
   ]
  },
  {
   "cell_type": "code",
   "execution_count": null,
   "id": "58476b12",
   "metadata": {
    "vscode": {
     "languageId": "sql"
    }
   },
   "outputs": [],
   "source": [
    "DROP DATABASE IF EXISTS Marmitest;"
   ]
  },
  {
   "cell_type": "code",
   "execution_count": null,
   "id": "73e11662",
   "metadata": {
    "vscode": {
     "languageId": "sql"
    }
   },
   "outputs": [],
   "source": [
    "CREATE DATABASE IF NOT EXISTS Marmiton;"
   ]
  },
  {
   "cell_type": "code",
   "execution_count": null,
   "id": "08b8878f",
   "metadata": {
    "vscode": {
     "languageId": "sql"
    }
   },
   "outputs": [],
   "source": [
    "CREATE TABLE recette (id INT AUTO_INCREMENT PRIMARY KEY, libelle VARCHAR(255), description VARCHAR(255), test INT );"
   ]
  },
  {
   "cell_type": "code",
   "execution_count": null,
   "id": "600df7aa",
   "metadata": {
    "vscode": {
     "languageId": "sql"
    }
   },
   "outputs": [],
   "source": [
    "ALTER TABLE recette CHANGE test test VARCHAR(255);"
   ]
  },
  {
   "cell_type": "code",
   "execution_count": null,
   "id": "7e7fa552",
   "metadata": {
    "vscode": {
     "languageId": "sql"
    }
   },
   "outputs": [],
   "source": [
    "ALTER TABLE recette CHANGE test beta VARCHAR(255);"
   ]
  },
  {
   "cell_type": "code",
   "execution_count": null,
   "id": "8e5648cf",
   "metadata": {
    "vscode": {
     "languageId": "sql"
    }
   },
   "outputs": [],
   "source": [
    "ALTER TABLE recette DROP beta;"
   ]
  },
  {
   "cell_type": "code",
   "execution_count": null,
   "id": "be87d78a",
   "metadata": {
    "vscode": {
     "languageId": "sql"
    }
   },
   "outputs": [],
   "source": [
    "CREATE TABLE ingredients (id INT AUTO_INCREMENT PRIMARY KEY, name VARCHAR(255));"
   ]
  }
 ],
 "metadata": {
  "language_info": {
   "name": "python"
  }
 },
 "nbformat": 4,
 "nbformat_minor": 5
}
