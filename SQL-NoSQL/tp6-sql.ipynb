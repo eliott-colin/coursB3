{
 "cells": [
  {
   "cell_type": "code",
   "execution_count": null,
   "id": "6011e072",
   "metadata": {
    "vscode": {
     "languageId": "sql"
    }
   },
   "outputs": [],
   "source": [
    "SELECT COUNT(Artist.Name) as TOTAL FROM Artist LEFT JOIN Album ON Album.ArtistId = Artist.ArtistId;"
   ]
  },
  {
   "cell_type": "code",
   "execution_count": null,
   "id": "c035dfd8",
   "metadata": {
    "vscode": {
     "languageId": "sql"
    }
   },
   "outputs": [],
   "source": [
    "SELECT COUNT(Artist.Name) as TOTAL FROM Artist RIGHT JOIN Album ON Album.ArtistId = Artist.ArtistId;"
   ]
  },
  {
   "cell_type": "code",
   "execution_count": null,
   "id": "84a8fdc6",
   "metadata": {
    "vscode": {
     "languageId": "sql"
    }
   },
   "outputs": [],
   "source": [
    "SELECT Track.TrackId,Track.Name FROM Track LEFT JOIN InvoiceLine ON InvoiceLine.TrackId = Track.TrackId;"
   ]
  },
  {
   "cell_type": "code",
   "execution_count": null,
   "id": "e697977c",
   "metadata": {
    "vscode": {
     "languageId": "sql"
    }
   },
   "outputs": [],
   "source": [
    "SELECT Track.TrackId,Track.Name FROM Track RIGHT JOIN InvoiceLine ON InvoiceLine.TrackId = Track.TrackId;"
   ]
  }
 ],
 "metadata": {
  "language_info": {
   "name": "python"
  }
 },
 "nbformat": 4,
 "nbformat_minor": 5
}
